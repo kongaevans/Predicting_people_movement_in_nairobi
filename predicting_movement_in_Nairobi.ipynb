{
 "cells": [
  {
   "cell_type": "code",
   "execution_count": null,
   "metadata": {},
   "outputs": [],
   "source": [
    "# craizy imports\n",
    "import pandas as pd\n",
    "import numpy  as np\n",
    "import matplotlib.pyplot as plt\n",
    "import seaborn as sns\n",
    "\n",
    "train = pd.read_csv('train_revised.csv')\n",
    "test = pd.read_csv('test_questions.csv')\n",
    "submission_format = pd.read_csv('sample_submission.csv')"
   ]
  },
  {
   "cell_type": "code",
   "execution_count": null,
   "metadata": {},
   "outputs": [],
   "source": [
    "print('Train', train.shape)\n",
    "print('Test', test.shape)"
   ]
  },
  {
   "cell_type": "code",
   "execution_count": null,
   "metadata": {},
   "outputs": [],
   "source": [
    "train.head()"
   ]
  },
  {
   "cell_type": "code",
   "execution_count": null,
   "metadata": {},
   "outputs": [],
   "source": [
    "test.head()"
   ]
  },
  {
   "cell_type": "code",
   "execution_count": null,
   "metadata": {},
   "outputs": [],
   "source": [
    "submission_format.head()"
   ]
  },
  {
   "cell_type": "code",
   "execution_count": null,
   "metadata": {},
   "outputs": [],
   "source": [
    "train.car_type.unique()\n",
    "# we will convert this to categorical value"
   ]
  },
  {
   "cell_type": "code",
   "execution_count": null,
   "metadata": {},
   "outputs": [],
   "source": [
    "train.travel_from.unique() \n",
    "# probably this will be dummy encoded"
   ]
  },
  {
   "cell_type": "code",
   "execution_count": null,
   "metadata": {},
   "outputs": [],
   "source": [
    "train.travel_to.unique()\n",
    "# only one variable probably will drop it"
   ]
  },
  {
   "cell_type": "code",
   "execution_count": null,
   "metadata": {},
   "outputs": [],
   "source": [
    "train.payment_method.unique()\n",
    "# will convert to categorical value"
   ]
  },
  {
   "cell_type": "code",
   "execution_count": null,
   "metadata": {},
   "outputs": [],
   "source": [
    "train.seat_number.unique()"
   ]
  },
  {
   "cell_type": "code",
   "execution_count": 125,
   "metadata": {},
   "outputs": [
    {
     "name": "stdout",
     "output_type": "stream",
     "text": [
      "training_features (51645, 6)\n",
      "test_features (1111, 6)\n",
      "training_labels (51645,)\n"
     ]
    }
   ],
   "source": [
    "# appropriate features\n",
    "features =  ['ride_id','travel_date', 'travel_from','travel_time','car_type','max_capacity']\n",
    "training_features = train[features]\n",
    "training_labels = train['seat_number']\n",
    "test_features = test[features]\n",
    "\n",
    "print('training_features', training_features.shape)\n",
    "print('test_features', test_features.shape)\n",
    "print('training_labels', training_labels.shape)"
   ]
  },
  {
   "cell_type": "code",
   "execution_count": 126,
   "metadata": {},
   "outputs": [],
   "source": [
    "# for easy preprocessing\n",
    "df_train_test = [training_features,test_features]"
   ]
  },
  {
   "cell_type": "markdown",
   "metadata": {},
   "source": [
    "# Handle null values"
   ]
  },
  {
   "cell_type": "code",
   "execution_count": null,
   "metadata": {},
   "outputs": [],
   "source": [
    "training_features.isnull().any(axis = 0)"
   ]
  },
  {
   "cell_type": "code",
   "execution_count": null,
   "metadata": {},
   "outputs": [],
   "source": [
    "training_labels.isnull().any(axis = 0)"
   ]
  },
  {
   "cell_type": "code",
   "execution_count": null,
   "metadata": {},
   "outputs": [],
   "source": [
    "test_features.isnull().any(axis = 0)"
   ]
  },
  {
   "cell_type": "markdown",
   "metadata": {},
   "source": [
    "# Explanatory data analysis\n"
   ]
  },
  {
   "cell_type": "code",
   "execution_count": null,
   "metadata": {},
   "outputs": [],
   "source": [
    "training_features.dtypes"
   ]
  },
  {
   "cell_type": "code",
   "execution_count": 127,
   "metadata": {},
   "outputs": [],
   "source": [
    "# convert car type to categorical\n",
    "from sklearn.preprocessing import LabelEncoder\n",
    "encoder = LabelEncoder()\n",
    "for df in df_train_test:\n",
    "    df['car_type'] = encoder.fit_transform(df.car_type)\n",
    "training_labels = encoder.fit_transform(training_labels)"
   ]
  },
  {
   "cell_type": "code",
   "execution_count": null,
   "metadata": {},
   "outputs": [],
   "source": [
    "test_features.dtypes"
   ]
  },
  {
   "cell_type": "code",
   "execution_count": null,
   "metadata": {},
   "outputs": [],
   "source": [
    "training_features.travel_from.unique()"
   ]
  },
  {
   "cell_type": "code",
   "execution_count": 129,
   "metadata": {},
   "outputs": [],
   "source": [
    "training_features = pd.get_dummies(training_features, columns= cols_to_dummy)\n",
    "test_features = pd.get_dummies(test_features, columns=cols_to_dummy)"
   ]
  },
  {
   "cell_type": "code",
   "execution_count": 130,
   "metadata": {},
   "outputs": [
    {
     "data": {
      "text/plain": [
       "(51645, 22)"
      ]
     },
     "execution_count": 130,
     "metadata": {},
     "output_type": "execute_result"
    }
   ],
   "source": [
    "training_features.shape"
   ]
  },
  {
   "cell_type": "code",
   "execution_count": 131,
   "metadata": {},
   "outputs": [
    {
     "data": {
      "text/html": [
       "<div>\n",
       "<style scoped>\n",
       "    .dataframe tbody tr th:only-of-type {\n",
       "        vertical-align: middle;\n",
       "    }\n",
       "\n",
       "    .dataframe tbody tr th {\n",
       "        vertical-align: top;\n",
       "    }\n",
       "\n",
       "    .dataframe thead th {\n",
       "        text-align: right;\n",
       "    }\n",
       "</style>\n",
       "<table border=\"1\" class=\"dataframe\">\n",
       "  <thead>\n",
       "    <tr style=\"text-align: right;\">\n",
       "      <th></th>\n",
       "      <th>ride_id</th>\n",
       "      <th>travel_date</th>\n",
       "      <th>travel_time</th>\n",
       "      <th>car_type</th>\n",
       "      <th>max_capacity</th>\n",
       "      <th>travel_from_Awendo</th>\n",
       "      <th>travel_from_Homa Bay</th>\n",
       "      <th>travel_from_Kehancha</th>\n",
       "      <th>travel_from_Kendu Bay</th>\n",
       "      <th>travel_from_Keroka</th>\n",
       "      <th>...</th>\n",
       "      <th>travel_from_Kisii</th>\n",
       "      <th>travel_from_Mbita</th>\n",
       "      <th>travel_from_Migori</th>\n",
       "      <th>travel_from_Ndhiwa</th>\n",
       "      <th>travel_from_Nyachenge</th>\n",
       "      <th>travel_from_Oyugis</th>\n",
       "      <th>travel_from_Rodi</th>\n",
       "      <th>travel_from_Rongo</th>\n",
       "      <th>travel_from_Sirare</th>\n",
       "      <th>travel_from_Sori</th>\n",
       "    </tr>\n",
       "  </thead>\n",
       "  <tbody>\n",
       "    <tr>\n",
       "      <th>0</th>\n",
       "      <td>1442</td>\n",
       "      <td>17-10-17</td>\n",
       "      <td>7:15</td>\n",
       "      <td>0</td>\n",
       "      <td>49</td>\n",
       "      <td>0</td>\n",
       "      <td>0</td>\n",
       "      <td>0</td>\n",
       "      <td>0</td>\n",
       "      <td>0</td>\n",
       "      <td>...</td>\n",
       "      <td>0</td>\n",
       "      <td>0</td>\n",
       "      <td>1</td>\n",
       "      <td>0</td>\n",
       "      <td>0</td>\n",
       "      <td>0</td>\n",
       "      <td>0</td>\n",
       "      <td>0</td>\n",
       "      <td>0</td>\n",
       "      <td>0</td>\n",
       "    </tr>\n",
       "    <tr>\n",
       "      <th>1</th>\n",
       "      <td>5437</td>\n",
       "      <td>19-11-17</td>\n",
       "      <td>7:12</td>\n",
       "      <td>0</td>\n",
       "      <td>49</td>\n",
       "      <td>0</td>\n",
       "      <td>0</td>\n",
       "      <td>0</td>\n",
       "      <td>0</td>\n",
       "      <td>0</td>\n",
       "      <td>...</td>\n",
       "      <td>0</td>\n",
       "      <td>0</td>\n",
       "      <td>1</td>\n",
       "      <td>0</td>\n",
       "      <td>0</td>\n",
       "      <td>0</td>\n",
       "      <td>0</td>\n",
       "      <td>0</td>\n",
       "      <td>0</td>\n",
       "      <td>0</td>\n",
       "    </tr>\n",
       "    <tr>\n",
       "      <th>2</th>\n",
       "      <td>5710</td>\n",
       "      <td>26-11-17</td>\n",
       "      <td>7:05</td>\n",
       "      <td>0</td>\n",
       "      <td>49</td>\n",
       "      <td>0</td>\n",
       "      <td>0</td>\n",
       "      <td>0</td>\n",
       "      <td>0</td>\n",
       "      <td>1</td>\n",
       "      <td>...</td>\n",
       "      <td>0</td>\n",
       "      <td>0</td>\n",
       "      <td>0</td>\n",
       "      <td>0</td>\n",
       "      <td>0</td>\n",
       "      <td>0</td>\n",
       "      <td>0</td>\n",
       "      <td>0</td>\n",
       "      <td>0</td>\n",
       "      <td>0</td>\n",
       "    </tr>\n",
       "    <tr>\n",
       "      <th>3</th>\n",
       "      <td>5777</td>\n",
       "      <td>27-11-17</td>\n",
       "      <td>7:10</td>\n",
       "      <td>0</td>\n",
       "      <td>49</td>\n",
       "      <td>0</td>\n",
       "      <td>1</td>\n",
       "      <td>0</td>\n",
       "      <td>0</td>\n",
       "      <td>0</td>\n",
       "      <td>...</td>\n",
       "      <td>0</td>\n",
       "      <td>0</td>\n",
       "      <td>0</td>\n",
       "      <td>0</td>\n",
       "      <td>0</td>\n",
       "      <td>0</td>\n",
       "      <td>0</td>\n",
       "      <td>0</td>\n",
       "      <td>0</td>\n",
       "      <td>0</td>\n",
       "    </tr>\n",
       "    <tr>\n",
       "      <th>4</th>\n",
       "      <td>5778</td>\n",
       "      <td>27-11-17</td>\n",
       "      <td>7:12</td>\n",
       "      <td>0</td>\n",
       "      <td>49</td>\n",
       "      <td>0</td>\n",
       "      <td>0</td>\n",
       "      <td>0</td>\n",
       "      <td>0</td>\n",
       "      <td>0</td>\n",
       "      <td>...</td>\n",
       "      <td>0</td>\n",
       "      <td>0</td>\n",
       "      <td>1</td>\n",
       "      <td>0</td>\n",
       "      <td>0</td>\n",
       "      <td>0</td>\n",
       "      <td>0</td>\n",
       "      <td>0</td>\n",
       "      <td>0</td>\n",
       "      <td>0</td>\n",
       "    </tr>\n",
       "  </tbody>\n",
       "</table>\n",
       "<p>5 rows × 22 columns</p>\n",
       "</div>"
      ],
      "text/plain": [
       "   ride_id travel_date travel_time  car_type  max_capacity  \\\n",
       "0     1442    17-10-17        7:15         0            49   \n",
       "1     5437    19-11-17        7:12         0            49   \n",
       "2     5710    26-11-17        7:05         0            49   \n",
       "3     5777    27-11-17        7:10         0            49   \n",
       "4     5778    27-11-17        7:12         0            49   \n",
       "\n",
       "   travel_from_Awendo  travel_from_Homa Bay  travel_from_Kehancha  \\\n",
       "0                   0                     0                     0   \n",
       "1                   0                     0                     0   \n",
       "2                   0                     0                     0   \n",
       "3                   0                     1                     0   \n",
       "4                   0                     0                     0   \n",
       "\n",
       "   travel_from_Kendu Bay  travel_from_Keroka        ...         \\\n",
       "0                      0                   0        ...          \n",
       "1                      0                   0        ...          \n",
       "2                      0                   1        ...          \n",
       "3                      0                   0        ...          \n",
       "4                      0                   0        ...          \n",
       "\n",
       "   travel_from_Kisii  travel_from_Mbita  travel_from_Migori  \\\n",
       "0                  0                  0                   1   \n",
       "1                  0                  0                   1   \n",
       "2                  0                  0                   0   \n",
       "3                  0                  0                   0   \n",
       "4                  0                  0                   1   \n",
       "\n",
       "   travel_from_Ndhiwa  travel_from_Nyachenge  travel_from_Oyugis  \\\n",
       "0                   0                      0                   0   \n",
       "1                   0                      0                   0   \n",
       "2                   0                      0                   0   \n",
       "3                   0                      0                   0   \n",
       "4                   0                      0                   0   \n",
       "\n",
       "   travel_from_Rodi  travel_from_Rongo  travel_from_Sirare  travel_from_Sori  \n",
       "0                 0                  0                   0                 0  \n",
       "1                 0                  0                   0                 0  \n",
       "2                 0                  0                   0                 0  \n",
       "3                 0                  0                   0                 0  \n",
       "4                 0                  0                   0                 0  \n",
       "\n",
       "[5 rows x 22 columns]"
      ]
     },
     "execution_count": 131,
     "metadata": {},
     "output_type": "execute_result"
    }
   ],
   "source": [
    "training_features.head()"
   ]
  },
  {
   "cell_type": "code",
   "execution_count": 133,
   "metadata": {},
   "outputs": [
    {
     "data": {
      "text/plain": [
       "Index(['ride_id', 'travel_date', 'travel_time', 'car_type', 'max_capacity',\n",
       "       'travel_from_Awendo', 'travel_from_Homa Bay', 'travel_from_Kehancha',\n",
       "       'travel_from_Keroka', 'travel_from_Kijauri', 'travel_from_Kisii',\n",
       "       'travel_from_Mbita', 'travel_from_Migori', 'travel_from_Ndhiwa',\n",
       "       'travel_from_Nyachenge', 'travel_from_Oyugis', 'travel_from_Rodi',\n",
       "       'travel_from_Rongo', 'travel_from_Sirare', 'travel_from_Sori'],\n",
       "      dtype='object')"
      ]
     },
     "execution_count": 133,
     "metadata": {},
     "output_type": "execute_result"
    }
   ],
   "source": [
    "test_features.columns"
   ]
  },
  {
   "cell_type": "code",
   "execution_count": 134,
   "metadata": {},
   "outputs": [
    {
     "data": {
      "text/plain": [
       "Index(['ride_id', 'travel_date', 'travel_time', 'car_type', 'max_capacity',\n",
       "       'travel_from_Awendo', 'travel_from_Homa Bay', 'travel_from_Kehancha',\n",
       "       'travel_from_Kendu Bay', 'travel_from_Keroka', 'travel_from_Keumbu',\n",
       "       'travel_from_Kijauri', 'travel_from_Kisii', 'travel_from_Mbita',\n",
       "       'travel_from_Migori', 'travel_from_Ndhiwa', 'travel_from_Nyachenge',\n",
       "       'travel_from_Oyugis', 'travel_from_Rodi', 'travel_from_Rongo',\n",
       "       'travel_from_Sirare', 'travel_from_Sori'],\n",
       "      dtype='object')"
      ]
     },
     "execution_count": 134,
     "metadata": {},
     "output_type": "execute_result"
    }
   ],
   "source": [
    "training_features.columns"
   ]
  },
  {
   "cell_type": "code",
   "execution_count": 135,
   "metadata": {},
   "outputs": [
    {
     "data": {
      "text/plain": [
       "array(['Migori', 'Keroka', 'Homa Bay', 'Kisii', 'Keumbu', 'Rongo',\n",
       "       'Kijauri', 'Oyugis', 'Awendo', 'Sirare', 'Nyachenge', 'Kehancha',\n",
       "       'Kendu Bay', 'Sori', 'Rodi', 'Mbita', 'Ndhiwa'], dtype=object)"
      ]
     },
     "execution_count": 135,
     "metadata": {},
     "output_type": "execute_result"
    }
   ],
   "source": [
    "train.travel_from.unique()"
   ]
  },
  {
   "cell_type": "code",
   "execution_count": 136,
   "metadata": {},
   "outputs": [
    {
     "data": {
      "text/plain": [
       "array(['Kisii', 'Rongo', 'Sirare', 'Homa Bay', 'Rodi', 'Awendo', 'Migori',\n",
       "       'Kijauri', 'Nyachenge', 'Kehancha', 'Keroka', 'Sori', 'Ndhiwa',\n",
       "       'Mbita', 'Oyugis'], dtype=object)"
      ]
     },
     "execution_count": 136,
     "metadata": {},
     "output_type": "execute_result"
    }
   ],
   "source": [
    "test.travel_from.unique()"
   ]
  },
  {
   "cell_type": "code",
   "execution_count": 137,
   "metadata": {},
   "outputs": [],
   "source": [
    "# Keumbu and kendu bay are missing in the test set, so we are going to great their dummy encodings\n",
    "test_features['travel_from_Keumbu'] = np.zeros(1111, dtype=int)\n",
    "test_features['travel_from_Kendu Bay'] = np.zeros(1111, dtype=int)"
   ]
  },
  {
   "cell_type": "code",
   "execution_count": 138,
   "metadata": {},
   "outputs": [
    {
     "data": {
      "text/plain": [
       "(1111, 22)"
      ]
     },
     "execution_count": 138,
     "metadata": {},
     "output_type": "execute_result"
    }
   ],
   "source": [
    "test_features.shape"
   ]
  },
  {
   "cell_type": "code",
   "execution_count": 139,
   "metadata": {},
   "outputs": [
    {
     "data": {
      "text/html": [
       "<div>\n",
       "<style scoped>\n",
       "    .dataframe tbody tr th:only-of-type {\n",
       "        vertical-align: middle;\n",
       "    }\n",
       "\n",
       "    .dataframe tbody tr th {\n",
       "        vertical-align: top;\n",
       "    }\n",
       "\n",
       "    .dataframe thead th {\n",
       "        text-align: right;\n",
       "    }\n",
       "</style>\n",
       "<table border=\"1\" class=\"dataframe\">\n",
       "  <thead>\n",
       "    <tr style=\"text-align: right;\">\n",
       "      <th></th>\n",
       "      <th>ride_id</th>\n",
       "      <th>car_type</th>\n",
       "      <th>max_capacity</th>\n",
       "      <th>travel_from_Awendo</th>\n",
       "      <th>travel_from_Homa Bay</th>\n",
       "      <th>travel_from_Kehancha</th>\n",
       "      <th>travel_from_Kendu Bay</th>\n",
       "      <th>travel_from_Keroka</th>\n",
       "      <th>travel_from_Keumbu</th>\n",
       "      <th>travel_from_Kijauri</th>\n",
       "      <th>travel_from_Kisii</th>\n",
       "      <th>travel_from_Mbita</th>\n",
       "      <th>travel_from_Migori</th>\n",
       "      <th>travel_from_Ndhiwa</th>\n",
       "      <th>travel_from_Nyachenge</th>\n",
       "      <th>travel_from_Oyugis</th>\n",
       "      <th>travel_from_Rodi</th>\n",
       "      <th>travel_from_Rongo</th>\n",
       "      <th>travel_from_Sirare</th>\n",
       "      <th>travel_from_Sori</th>\n",
       "    </tr>\n",
       "  </thead>\n",
       "  <tbody>\n",
       "    <tr>\n",
       "      <th>count</th>\n",
       "      <td>51645.000000</td>\n",
       "      <td>51645.000000</td>\n",
       "      <td>51645.000000</td>\n",
       "      <td>51645.000000</td>\n",
       "      <td>51645.000000</td>\n",
       "      <td>51645.000000</td>\n",
       "      <td>51645.000000</td>\n",
       "      <td>51645.000000</td>\n",
       "      <td>51645.000000</td>\n",
       "      <td>51645.000000</td>\n",
       "      <td>51645.000000</td>\n",
       "      <td>51645.000000</td>\n",
       "      <td>51645.000000</td>\n",
       "      <td>51645.000000</td>\n",
       "      <td>51645.000000</td>\n",
       "      <td>51645.000000</td>\n",
       "      <td>51645.000000</td>\n",
       "      <td>51645.000000</td>\n",
       "      <td>51645.000000</td>\n",
       "      <td>51645.000000</td>\n",
       "    </tr>\n",
       "    <tr>\n",
       "      <th>mean</th>\n",
       "      <td>10188.645793</td>\n",
       "      <td>0.380676</td>\n",
       "      <td>34.534321</td>\n",
       "      <td>0.034621</td>\n",
       "      <td>0.122064</td>\n",
       "      <td>0.036964</td>\n",
       "      <td>0.000019</td>\n",
       "      <td>0.019131</td>\n",
       "      <td>0.000426</td>\n",
       "      <td>0.019963</td>\n",
       "      <td>0.437738</td>\n",
       "      <td>0.007319</td>\n",
       "      <td>0.136064</td>\n",
       "      <td>0.004570</td>\n",
       "      <td>0.009914</td>\n",
       "      <td>0.000097</td>\n",
       "      <td>0.007842</td>\n",
       "      <td>0.076058</td>\n",
       "      <td>0.086146</td>\n",
       "      <td>0.001065</td>\n",
       "    </tr>\n",
       "    <tr>\n",
       "      <th>std</th>\n",
       "      <td>2211.295708</td>\n",
       "      <td>0.485558</td>\n",
       "      <td>18.451193</td>\n",
       "      <td>0.182820</td>\n",
       "      <td>0.327363</td>\n",
       "      <td>0.188675</td>\n",
       "      <td>0.004400</td>\n",
       "      <td>0.136985</td>\n",
       "      <td>0.020635</td>\n",
       "      <td>0.139875</td>\n",
       "      <td>0.496113</td>\n",
       "      <td>0.085239</td>\n",
       "      <td>0.342859</td>\n",
       "      <td>0.067445</td>\n",
       "      <td>0.099074</td>\n",
       "      <td>0.009839</td>\n",
       "      <td>0.088208</td>\n",
       "      <td>0.265093</td>\n",
       "      <td>0.280582</td>\n",
       "      <td>0.032617</td>\n",
       "    </tr>\n",
       "    <tr>\n",
       "      <th>min</th>\n",
       "      <td>1442.000000</td>\n",
       "      <td>0.000000</td>\n",
       "      <td>11.000000</td>\n",
       "      <td>0.000000</td>\n",
       "      <td>0.000000</td>\n",
       "      <td>0.000000</td>\n",
       "      <td>0.000000</td>\n",
       "      <td>0.000000</td>\n",
       "      <td>0.000000</td>\n",
       "      <td>0.000000</td>\n",
       "      <td>0.000000</td>\n",
       "      <td>0.000000</td>\n",
       "      <td>0.000000</td>\n",
       "      <td>0.000000</td>\n",
       "      <td>0.000000</td>\n",
       "      <td>0.000000</td>\n",
       "      <td>0.000000</td>\n",
       "      <td>0.000000</td>\n",
       "      <td>0.000000</td>\n",
       "      <td>0.000000</td>\n",
       "    </tr>\n",
       "    <tr>\n",
       "      <th>25%</th>\n",
       "      <td>8287.000000</td>\n",
       "      <td>0.000000</td>\n",
       "      <td>11.000000</td>\n",
       "      <td>0.000000</td>\n",
       "      <td>0.000000</td>\n",
       "      <td>0.000000</td>\n",
       "      <td>0.000000</td>\n",
       "      <td>0.000000</td>\n",
       "      <td>0.000000</td>\n",
       "      <td>0.000000</td>\n",
       "      <td>0.000000</td>\n",
       "      <td>0.000000</td>\n",
       "      <td>0.000000</td>\n",
       "      <td>0.000000</td>\n",
       "      <td>0.000000</td>\n",
       "      <td>0.000000</td>\n",
       "      <td>0.000000</td>\n",
       "      <td>0.000000</td>\n",
       "      <td>0.000000</td>\n",
       "      <td>0.000000</td>\n",
       "    </tr>\n",
       "    <tr>\n",
       "      <th>50%</th>\n",
       "      <td>10353.000000</td>\n",
       "      <td>0.000000</td>\n",
       "      <td>49.000000</td>\n",
       "      <td>0.000000</td>\n",
       "      <td>0.000000</td>\n",
       "      <td>0.000000</td>\n",
       "      <td>0.000000</td>\n",
       "      <td>0.000000</td>\n",
       "      <td>0.000000</td>\n",
       "      <td>0.000000</td>\n",
       "      <td>0.000000</td>\n",
       "      <td>0.000000</td>\n",
       "      <td>0.000000</td>\n",
       "      <td>0.000000</td>\n",
       "      <td>0.000000</td>\n",
       "      <td>0.000000</td>\n",
       "      <td>0.000000</td>\n",
       "      <td>0.000000</td>\n",
       "      <td>0.000000</td>\n",
       "      <td>0.000000</td>\n",
       "    </tr>\n",
       "    <tr>\n",
       "      <th>75%</th>\n",
       "      <td>12029.000000</td>\n",
       "      <td>1.000000</td>\n",
       "      <td>49.000000</td>\n",
       "      <td>0.000000</td>\n",
       "      <td>0.000000</td>\n",
       "      <td>0.000000</td>\n",
       "      <td>0.000000</td>\n",
       "      <td>0.000000</td>\n",
       "      <td>0.000000</td>\n",
       "      <td>0.000000</td>\n",
       "      <td>1.000000</td>\n",
       "      <td>0.000000</td>\n",
       "      <td>0.000000</td>\n",
       "      <td>0.000000</td>\n",
       "      <td>0.000000</td>\n",
       "      <td>0.000000</td>\n",
       "      <td>0.000000</td>\n",
       "      <td>0.000000</td>\n",
       "      <td>0.000000</td>\n",
       "      <td>0.000000</td>\n",
       "    </tr>\n",
       "    <tr>\n",
       "      <th>max</th>\n",
       "      <td>20117.000000</td>\n",
       "      <td>1.000000</td>\n",
       "      <td>49.000000</td>\n",
       "      <td>1.000000</td>\n",
       "      <td>1.000000</td>\n",
       "      <td>1.000000</td>\n",
       "      <td>1.000000</td>\n",
       "      <td>1.000000</td>\n",
       "      <td>1.000000</td>\n",
       "      <td>1.000000</td>\n",
       "      <td>1.000000</td>\n",
       "      <td>1.000000</td>\n",
       "      <td>1.000000</td>\n",
       "      <td>1.000000</td>\n",
       "      <td>1.000000</td>\n",
       "      <td>1.000000</td>\n",
       "      <td>1.000000</td>\n",
       "      <td>1.000000</td>\n",
       "      <td>1.000000</td>\n",
       "      <td>1.000000</td>\n",
       "    </tr>\n",
       "  </tbody>\n",
       "</table>\n",
       "</div>"
      ],
      "text/plain": [
       "            ride_id      car_type  max_capacity  travel_from_Awendo  \\\n",
       "count  51645.000000  51645.000000  51645.000000        51645.000000   \n",
       "mean   10188.645793      0.380676     34.534321            0.034621   \n",
       "std     2211.295708      0.485558     18.451193            0.182820   \n",
       "min     1442.000000      0.000000     11.000000            0.000000   \n",
       "25%     8287.000000      0.000000     11.000000            0.000000   \n",
       "50%    10353.000000      0.000000     49.000000            0.000000   \n",
       "75%    12029.000000      1.000000     49.000000            0.000000   \n",
       "max    20117.000000      1.000000     49.000000            1.000000   \n",
       "\n",
       "       travel_from_Homa Bay  travel_from_Kehancha  travel_from_Kendu Bay  \\\n",
       "count          51645.000000          51645.000000           51645.000000   \n",
       "mean               0.122064              0.036964               0.000019   \n",
       "std                0.327363              0.188675               0.004400   \n",
       "min                0.000000              0.000000               0.000000   \n",
       "25%                0.000000              0.000000               0.000000   \n",
       "50%                0.000000              0.000000               0.000000   \n",
       "75%                0.000000              0.000000               0.000000   \n",
       "max                1.000000              1.000000               1.000000   \n",
       "\n",
       "       travel_from_Keroka  travel_from_Keumbu  travel_from_Kijauri  \\\n",
       "count        51645.000000        51645.000000         51645.000000   \n",
       "mean             0.019131            0.000426             0.019963   \n",
       "std              0.136985            0.020635             0.139875   \n",
       "min              0.000000            0.000000             0.000000   \n",
       "25%              0.000000            0.000000             0.000000   \n",
       "50%              0.000000            0.000000             0.000000   \n",
       "75%              0.000000            0.000000             0.000000   \n",
       "max              1.000000            1.000000             1.000000   \n",
       "\n",
       "       travel_from_Kisii  travel_from_Mbita  travel_from_Migori  \\\n",
       "count       51645.000000       51645.000000        51645.000000   \n",
       "mean            0.437738           0.007319            0.136064   \n",
       "std             0.496113           0.085239            0.342859   \n",
       "min             0.000000           0.000000            0.000000   \n",
       "25%             0.000000           0.000000            0.000000   \n",
       "50%             0.000000           0.000000            0.000000   \n",
       "75%             1.000000           0.000000            0.000000   \n",
       "max             1.000000           1.000000            1.000000   \n",
       "\n",
       "       travel_from_Ndhiwa  travel_from_Nyachenge  travel_from_Oyugis  \\\n",
       "count        51645.000000           51645.000000        51645.000000   \n",
       "mean             0.004570               0.009914            0.000097   \n",
       "std              0.067445               0.099074            0.009839   \n",
       "min              0.000000               0.000000            0.000000   \n",
       "25%              0.000000               0.000000            0.000000   \n",
       "50%              0.000000               0.000000            0.000000   \n",
       "75%              0.000000               0.000000            0.000000   \n",
       "max              1.000000               1.000000            1.000000   \n",
       "\n",
       "       travel_from_Rodi  travel_from_Rongo  travel_from_Sirare  \\\n",
       "count      51645.000000       51645.000000        51645.000000   \n",
       "mean           0.007842           0.076058            0.086146   \n",
       "std            0.088208           0.265093            0.280582   \n",
       "min            0.000000           0.000000            0.000000   \n",
       "25%            0.000000           0.000000            0.000000   \n",
       "50%            0.000000           0.000000            0.000000   \n",
       "75%            0.000000           0.000000            0.000000   \n",
       "max            1.000000           1.000000            1.000000   \n",
       "\n",
       "       travel_from_Sori  \n",
       "count      51645.000000  \n",
       "mean           0.001065  \n",
       "std            0.032617  \n",
       "min            0.000000  \n",
       "25%            0.000000  \n",
       "50%            0.000000  \n",
       "75%            0.000000  \n",
       "max            1.000000  "
      ]
     },
     "execution_count": 139,
     "metadata": {},
     "output_type": "execute_result"
    }
   ],
   "source": [
    "training_features.describe()"
   ]
  },
  {
   "cell_type": "markdown",
   "metadata": {},
   "source": [
    "# Feature engineering"
   ]
  },
  {
   "cell_type": "code",
   "execution_count": 112,
   "metadata": {},
   "outputs": [],
   "source": [
    "import featuretools as ft"
   ]
  },
  {
   "cell_type": "code",
   "execution_count": 113,
   "metadata": {},
   "outputs": [
    {
     "data": {
      "text/plain": [
       "Index(['travel_date', 'travel_time', 'car_type', 'max_capacity',\n",
       "       'travel_from_Awendo', 'travel_from_Homa Bay', 'travel_from_Kehancha',\n",
       "       'travel_from_Kendu Bay', 'travel_from_Keroka', 'travel_from_Keumbu',\n",
       "       'travel_from_Kijauri', 'travel_from_Kisii', 'travel_from_Mbita',\n",
       "       'travel_from_Migori', 'travel_from_Ndhiwa', 'travel_from_Nyachenge',\n",
       "       'travel_from_Oyugis', 'travel_from_Rodi', 'travel_from_Rongo',\n",
       "       'travel_from_Sirare', 'travel_from_Sori'],\n",
       "      dtype='object')"
      ]
     },
     "execution_count": 113,
     "metadata": {},
     "output_type": "execute_result"
    }
   ],
   "source": [
    "training_features.columns"
   ]
  },
  {
   "cell_type": "code",
   "execution_count": 150,
   "metadata": {},
   "outputs": [
    {
     "name": "stderr",
     "output_type": "stream",
     "text": [
      "C:\\Users\\lenovoG50\\Anaconda3\\lib\\site-packages\\pandas\\core\\frame.py:6211: FutureWarning: Sorting because non-concatenation axis is not aligned. A future version\n",
      "of pandas will change to not sort by default.\n",
      "\n",
      "To accept the future behavior, pass 'sort=False'.\n",
      "\n",
      "To retain the current behavior and silence the warning, pass 'sort=True'.\n",
      "\n",
      "  sort=sort)\n"
     ]
    },
    {
     "data": {
      "text/plain": [
       "(52756, 22)"
      ]
     },
     "execution_count": 150,
     "metadata": {},
     "output_type": "execute_result"
    }
   ],
   "source": [
    "# features to feature engineer\n",
    "features = ['travel_date','travel_time','car_type','max_capacity']\n",
    "combi['id'] = combi['ride_id'] + combi['max_capacity']\n",
    "# combine training and test for easy feature engineering\n",
    "combi = training_features.append(test_features, ignore_index = True)\n",
    "combi.shape"
   ]
  },
  {
   "cell_type": "code",
   "execution_count": 151,
   "metadata": {},
   "outputs": [
    {
     "name": "stdout",
     "output_type": "stream",
     "text": [
      "2018-11-08 14:16:17,269 featuretools.entityset - WARNING    index id not found in dataframe, creating new integer column\n"
     ]
    },
    {
     "data": {
      "text/plain": [
       "Entityset: seat_number\n",
       "  Entities:\n",
       "    Nairobi_Movement [Rows: 52756, Columns: 23]\n",
       "  Relationships:\n",
       "    No relationships"
      ]
     },
     "execution_count": 151,
     "metadata": {},
     "output_type": "execute_result"
    }
   ],
   "source": [
    "# creating an entity set 'es'\n",
    "es = ft.EntitySet(id = 'seat_number')\n",
    "\n",
    "# adding a dataframe\n",
    "es.entity_from_dataframe(entity_id = 'Nairobi_Movement', dataframe = combi, index = 'id')\n"
   ]
  },
  {
   "cell_type": "code",
   "execution_count": null,
   "metadata": {},
   "outputs": [],
   "source": [
    "es.normalize_entity(base_entity_id = 'Nairobi_Movement', new_entity_id ='seats', index = 'ride_id',\n",
    "                   additional_variables = features)"
   ]
  },
  {
   "cell_type": "code",
   "execution_count": 144,
   "metadata": {},
   "outputs": [
    {
     "name": "stdout",
     "output_type": "stream",
     "text": [
      "Built 131 features\n",
      "EntitySet scattered to workers in 12.239 seconds\n",
      "Elapsed: 01:03 | Remaining: 00:00 | Progress: 100%|██████████| Calculated: 11/11 chunks\n"
     ]
    }
   ],
   "source": [
    "feature_matrix, feature_names = ft.dfs(entityset = es, target_entity = 'Nairobi_Movement',\n",
    "                                      max_depth = 2, verbose = 1, n_jobs = 3)"
   ]
  },
  {
   "cell_type": "code",
   "execution_count": 146,
   "metadata": {},
   "outputs": [
    {
     "data": {
      "text/plain": [
       "Index(['ride_id', 'travel_from_Awendo', 'travel_from_Homa Bay',\n",
       "       'travel_from_Kehancha', 'travel_from_Kendu Bay', 'travel_from_Keroka',\n",
       "       'travel_from_Keumbu', 'travel_from_Kijauri', 'travel_from_Kisii',\n",
       "       'travel_from_Mbita',\n",
       "       ...\n",
       "       'seats.MEAN(Nairobi_Movement.travel_from_Sori)',\n",
       "       'seats.COUNT(Nairobi_Movement)', 'seats.DAY(travel_date)',\n",
       "       'seats.DAY(travel_time)', 'seats.YEAR(travel_date)',\n",
       "       'seats.YEAR(travel_time)', 'seats.MONTH(travel_date)',\n",
       "       'seats.MONTH(travel_time)', 'seats.WEEKDAY(travel_date)',\n",
       "       'seats.WEEKDAY(travel_time)'],\n",
       "      dtype='object', length=131)"
      ]
     },
     "execution_count": 146,
     "metadata": {},
     "output_type": "execute_result"
    }
   ],
   "source": [
    "feature_matrix.columns"
   ]
  },
  {
   "cell_type": "code",
   "execution_count": 160,
   "metadata": {},
   "outputs": [],
   "source": [
    "feature_matrix.drop(['ride_id'], axis = 1, inplace = True)\n",
    "train= feature_matrix[:51645]\n",
    "test = feature_matrix[51645:]"
   ]
  },
  {
   "cell_type": "markdown",
   "metadata": {},
   "source": [
    "# Modeling "
   ]
  },
  {
   "cell_type": "code",
   "execution_count": 184,
   "metadata": {},
   "outputs": [],
   "source": [
    "from xgboost import XGBClassifier"
   ]
  },
  {
   "cell_type": "code",
   "execution_count": 213,
   "metadata": {},
   "outputs": [],
   "source": [
    "from sklearn.model_selection import train_test_split\n",
    "\n",
    "# splitting train data into training and validation set\n",
    "xtrain, xvalid, ytrain, yvalid = train_test_split(train, training_labels, test_size=0.25, random_state=11)"
   ]
  },
  {
   "cell_type": "code",
   "execution_count": 185,
   "metadata": {},
   "outputs": [
    {
     "name": "stdout",
     "output_type": "stream",
     "text": [
      "                                                    Importance\n",
      "seats.car_type                                        0.235630\n",
      "seats.DAY(travel_date)                                0.079611\n",
      "seats.MONTH(travel_date)                              0.055879\n",
      "seats.COUNT(Nairobi_Movement)                         0.055592\n",
      "seats.WEEKDAY(travel_date)                            0.051527\n",
      "seats.SUM(Nairobi_Movement.travel_from_Kehancha)      0.040565\n",
      "seats.SUM(Nairobi_Movement.travel_from_Kisii)         0.040360\n",
      "seats.SUM(Nairobi_Movement.travel_from_Homa Bay)      0.039580\n",
      "seats.SUM(Nairobi_Movement.travel_from_Rongo)         0.038348\n",
      "seats.SUM(Nairobi_Movement.travel_from_Awendo)        0.035474\n",
      "travel_from_Rongo                                     0.031450\n",
      "seats.SUM(Nairobi_Movement.travel_from_Kijauri)       0.029520\n",
      "travel_from_Awendo                                    0.026154\n",
      "seats.SUM(Nairobi_Movement.travel_from_Migori)        0.019256\n",
      "seats.SUM(Nairobi_Movement.travel_from_Rodi)          0.019174\n",
      "travel_from_Kijauri                                   0.018065\n",
      "seats.SUM(Nairobi_Movement.travel_from_Ndhiwa)        0.016916\n",
      "travel_from_Kehancha                                  0.016136\n",
      "seats.SUM(Nairobi_Movement.travel_from_Keroka)        0.013508\n",
      "seats.SUM(Nairobi_Movement.travel_from_Nyachenge)     0.012153\n",
      "seats.STD(Nairobi_Movement.travel_from_Awendo)        0.012153\n",
      "travel_from_Kisii                                     0.012030\n",
      "seats.SUM(Nairobi_Movement.travel_from_Sirare)        0.012030\n",
      "travel_from_Nyachenge                                 0.011086\n",
      "travel_from_Rodi                                      0.009115\n",
      "travel_from_Sirare                                    0.008951\n",
      "travel_from_Keroka                                    0.008910\n",
      "travel_from_Homa Bay                                  0.008294\n",
      "seats.YEAR(travel_date)                               0.007965\n",
      "seats.SKEW(Nairobi_Movement.travel_from_Awendo)       0.007555\n",
      "...                                                        ...\n",
      "seats.SUM(Nairobi_Movement.travel_from_Oyugis)        0.000000\n",
      "seats.SUM(Nairobi_Movement.travel_from_Kendu Bay)     0.000000\n",
      "seats.max_capacity                                    0.000000\n",
      "travel_from_Oyugis                                    0.000000\n",
      "travel_from_Kendu Bay                                 0.000000\n",
      "seats.MAX(Nairobi_Movement.travel_from_Awendo)        0.000000\n",
      "seats.MAX(Nairobi_Movement.travel_from_Homa Bay)      0.000000\n",
      "seats.MAX(Nairobi_Movement.travel_from_Kehancha)      0.000000\n",
      "seats.MAX(Nairobi_Movement.travel_from_Sirare)        0.000000\n",
      "seats.SKEW(Nairobi_Movement.travel_from_Mbita)        0.000000\n",
      "seats.SKEW(Nairobi_Movement.travel_from_Kisii)        0.000000\n",
      "seats.SKEW(Nairobi_Movement.travel_from_Kijauri)      0.000000\n",
      "seats.SKEW(Nairobi_Movement.travel_from_Keumbu)       0.000000\n",
      "seats.SKEW(Nairobi_Movement.travel_from_Keroka)       0.000000\n",
      "seats.SKEW(Nairobi_Movement.travel_from_Kendu Bay)    0.000000\n",
      "seats.SKEW(Nairobi_Movement.travel_from_Kehancha)     0.000000\n",
      "seats.SKEW(Nairobi_Movement.travel_from_Homa Bay)     0.000000\n",
      "seats.MAX(Nairobi_Movement.travel_from_Sori)          0.000000\n",
      "seats.MAX(Nairobi_Movement.travel_from_Rongo)         0.000000\n",
      "seats.MAX(Nairobi_Movement.travel_from_Kendu Bay)     0.000000\n",
      "seats.MAX(Nairobi_Movement.travel_from_Rodi)          0.000000\n",
      "seats.MAX(Nairobi_Movement.travel_from_Nyachenge)     0.000000\n",
      "seats.MAX(Nairobi_Movement.travel_from_Ndhiwa)        0.000000\n",
      "seats.MAX(Nairobi_Movement.travel_from_Migori)        0.000000\n",
      "seats.MAX(Nairobi_Movement.travel_from_Mbita)         0.000000\n",
      "seats.MAX(Nairobi_Movement.travel_from_Kisii)         0.000000\n",
      "seats.MAX(Nairobi_Movement.travel_from_Kijauri)       0.000000\n",
      "seats.MAX(Nairobi_Movement.travel_from_Keumbu)        0.000000\n",
      "seats.MAX(Nairobi_Movement.travel_from_Keroka)        0.000000\n",
      "seats.WEEKDAY(travel_time)                            0.000000\n",
      "\n",
      "[130 rows x 1 columns]\n"
     ]
    }
   ],
   "source": [
    "# feature selection\n",
    "xgb = XGBClassifier()\n",
    "xgb.fit(xtrain, ytrain)\n",
    "imp = pd.DataFrame(xgb.feature_importances_ ,columns = ['Importance'],index = xtrain.columns)\n",
    "imp = imp.sort_values(['Importance'], ascending = False)\n",
    "\n",
    "print(imp[100:])"
   ]
  },
  {
   "cell_type": "code",
   "execution_count": 231,
   "metadata": {},
   "outputs": [],
   "source": [
    "feature_importance = ['seats.car_type','seats.DAY(travel_date)','seats.MONTH(travel_date)',\n",
    "'seats.COUNT(Nairobi_Movement)','seats.WEEKDAY(travel_date)',                          \n",
    "'seats.SUM(Nairobi_Movement.travel_from_Kehancha)',     \n",
    "'seats.SUM(Nairobi_Movement.travel_from_Kisii)',       \n",
    "'seats.SUM(Nairobi_Movement.travel_from_Homa Bay)',   \n",
    "'seats.SUM(Nairobi_Movement.travel_from_Rongo)',       \n",
    "'seats.SUM(Nairobi_Movement.travel_from_Awendo)',    \n",
    "'travel_from_Rongo',                                   \n",
    "'seats.SUM(Nairobi_Movement.travel_from_Kijauri)',     \n",
    "'travel_from_Awendo',                                   \n",
    "'seats.SUM(Nairobi_Movement.travel_from_Migori)',       \n",
    "'seats.SUM(Nairobi_Movement.travel_from_Rodi)',         \n",
    "'travel_from_Kijauri',                                \n",
    "'seats.SUM(Nairobi_Movement.travel_from_Ndhiwa)',       \n",
    "'travel_from_Kehancha',                                 \n",
    "'seats.SUM(Nairobi_Movement.travel_from_Keroka)',       \n",
    "'seats.SUM(Nairobi_Movement.travel_from_Nyachenge)',    \n",
    "'seats.STD(Nairobi_Movement.travel_from_Awendo)',       \n",
    "'travel_from_Kisii',                                   \n",
    "'seats.SUM(Nairobi_Movement.travel_from_Sirare)',      \n",
    "'travel_from_Nyachenge',                                \n",
    "'travel_from_Rodi',                                     \n",
    "'travel_from_Sirare',                                  \n",
    "'travel_from_Keroka',                                   \n",
    "'travel_from_Homa Bay',                               \n",
    "'seats.YEAR(travel_date)',                              \n",
    "'seats.SKEW(Nairobi_Movement.travel_from_Awendo)',     \n",
    "'seats.SUM(Nairobi_Movement.travel_from_Mbita)',        \n",
    "'seats.SUM(Nairobi_Movement.travel_from_Sori)',        \n",
    "'travel_from_Keumbu',                                  \n",
    "'travel_from_Migori',                                   \n",
    "'travel_from_Ndhiwa',                                   \n",
    "'travel_from_Mbita',                                    \n",
    "'travel_from_Sori','seats.SUM(Nairobi_Movement.travel_from_Keumbu)']      "
   ]
  },
  {
   "cell_type": "code",
   "execution_count": 233,
   "metadata": {},
   "outputs": [],
   "source": [
    "train_important = train[feature_importance]\n",
    "test_important = test[feature_importance]"
   ]
  },
  {
   "cell_type": "code",
   "execution_count": 234,
   "metadata": {},
   "outputs": [
    {
     "data": {
      "text/html": [
       "<div>\n",
       "<style scoped>\n",
       "    .dataframe tbody tr th:only-of-type {\n",
       "        vertical-align: middle;\n",
       "    }\n",
       "\n",
       "    .dataframe tbody tr th {\n",
       "        vertical-align: top;\n",
       "    }\n",
       "\n",
       "    .dataframe thead th {\n",
       "        text-align: right;\n",
       "    }\n",
       "</style>\n",
       "<table border=\"1\" class=\"dataframe\">\n",
       "  <thead>\n",
       "    <tr style=\"text-align: right;\">\n",
       "      <th></th>\n",
       "      <th>seats.car_type</th>\n",
       "      <th>seats.DAY(travel_date)</th>\n",
       "      <th>seats.MONTH(travel_date)</th>\n",
       "      <th>seats.COUNT(Nairobi_Movement)</th>\n",
       "      <th>seats.WEEKDAY(travel_date)</th>\n",
       "      <th>seats.SUM(Nairobi_Movement.travel_from_Kehancha)</th>\n",
       "      <th>seats.SUM(Nairobi_Movement.travel_from_Kisii)</th>\n",
       "      <th>seats.SUM(Nairobi_Movement.travel_from_Homa Bay)</th>\n",
       "      <th>seats.SUM(Nairobi_Movement.travel_from_Rongo)</th>\n",
       "      <th>seats.SUM(Nairobi_Movement.travel_from_Awendo)</th>\n",
       "      <th>...</th>\n",
       "      <th>seats.YEAR(travel_date)</th>\n",
       "      <th>seats.SKEW(Nairobi_Movement.travel_from_Awendo)</th>\n",
       "      <th>seats.SUM(Nairobi_Movement.travel_from_Mbita)</th>\n",
       "      <th>seats.SUM(Nairobi_Movement.travel_from_Sori)</th>\n",
       "      <th>travel_from_Keumbu</th>\n",
       "      <th>travel_from_Migori</th>\n",
       "      <th>travel_from_Ndhiwa</th>\n",
       "      <th>travel_from_Mbita</th>\n",
       "      <th>travel_from_Sori</th>\n",
       "      <th>seats.SUM(Nairobi_Movement.travel_from_Keumbu)</th>\n",
       "    </tr>\n",
       "    <tr>\n",
       "      <th>id</th>\n",
       "      <th></th>\n",
       "      <th></th>\n",
       "      <th></th>\n",
       "      <th></th>\n",
       "      <th></th>\n",
       "      <th></th>\n",
       "      <th></th>\n",
       "      <th></th>\n",
       "      <th></th>\n",
       "      <th></th>\n",
       "      <th></th>\n",
       "      <th></th>\n",
       "      <th></th>\n",
       "      <th></th>\n",
       "      <th></th>\n",
       "      <th></th>\n",
       "      <th></th>\n",
       "      <th></th>\n",
       "      <th></th>\n",
       "      <th></th>\n",
       "      <th></th>\n",
       "    </tr>\n",
       "  </thead>\n",
       "  <tbody>\n",
       "    <tr>\n",
       "      <th>0</th>\n",
       "      <td>0</td>\n",
       "      <td>17</td>\n",
       "      <td>10</td>\n",
       "      <td>1</td>\n",
       "      <td>1</td>\n",
       "      <td>0</td>\n",
       "      <td>0</td>\n",
       "      <td>0</td>\n",
       "      <td>0</td>\n",
       "      <td>0</td>\n",
       "      <td>...</td>\n",
       "      <td>2017</td>\n",
       "      <td>NaN</td>\n",
       "      <td>0</td>\n",
       "      <td>0</td>\n",
       "      <td>0</td>\n",
       "      <td>1</td>\n",
       "      <td>0</td>\n",
       "      <td>0</td>\n",
       "      <td>0</td>\n",
       "      <td>0</td>\n",
       "    </tr>\n",
       "    <tr>\n",
       "      <th>1</th>\n",
       "      <td>0</td>\n",
       "      <td>19</td>\n",
       "      <td>11</td>\n",
       "      <td>1</td>\n",
       "      <td>6</td>\n",
       "      <td>0</td>\n",
       "      <td>0</td>\n",
       "      <td>0</td>\n",
       "      <td>0</td>\n",
       "      <td>0</td>\n",
       "      <td>...</td>\n",
       "      <td>2017</td>\n",
       "      <td>NaN</td>\n",
       "      <td>0</td>\n",
       "      <td>0</td>\n",
       "      <td>0</td>\n",
       "      <td>1</td>\n",
       "      <td>0</td>\n",
       "      <td>0</td>\n",
       "      <td>0</td>\n",
       "      <td>0</td>\n",
       "    </tr>\n",
       "    <tr>\n",
       "      <th>2</th>\n",
       "      <td>0</td>\n",
       "      <td>26</td>\n",
       "      <td>11</td>\n",
       "      <td>1</td>\n",
       "      <td>6</td>\n",
       "      <td>0</td>\n",
       "      <td>0</td>\n",
       "      <td>0</td>\n",
       "      <td>0</td>\n",
       "      <td>0</td>\n",
       "      <td>...</td>\n",
       "      <td>2017</td>\n",
       "      <td>NaN</td>\n",
       "      <td>0</td>\n",
       "      <td>0</td>\n",
       "      <td>0</td>\n",
       "      <td>0</td>\n",
       "      <td>0</td>\n",
       "      <td>0</td>\n",
       "      <td>0</td>\n",
       "      <td>0</td>\n",
       "    </tr>\n",
       "    <tr>\n",
       "      <th>3</th>\n",
       "      <td>0</td>\n",
       "      <td>27</td>\n",
       "      <td>11</td>\n",
       "      <td>5</td>\n",
       "      <td>0</td>\n",
       "      <td>0</td>\n",
       "      <td>0</td>\n",
       "      <td>5</td>\n",
       "      <td>0</td>\n",
       "      <td>0</td>\n",
       "      <td>...</td>\n",
       "      <td>2017</td>\n",
       "      <td>0.0</td>\n",
       "      <td>0</td>\n",
       "      <td>0</td>\n",
       "      <td>0</td>\n",
       "      <td>0</td>\n",
       "      <td>0</td>\n",
       "      <td>0</td>\n",
       "      <td>0</td>\n",
       "      <td>0</td>\n",
       "    </tr>\n",
       "    <tr>\n",
       "      <th>4</th>\n",
       "      <td>0</td>\n",
       "      <td>27</td>\n",
       "      <td>11</td>\n",
       "      <td>31</td>\n",
       "      <td>0</td>\n",
       "      <td>0</td>\n",
       "      <td>0</td>\n",
       "      <td>0</td>\n",
       "      <td>0</td>\n",
       "      <td>0</td>\n",
       "      <td>...</td>\n",
       "      <td>2017</td>\n",
       "      <td>0.0</td>\n",
       "      <td>0</td>\n",
       "      <td>0</td>\n",
       "      <td>0</td>\n",
       "      <td>1</td>\n",
       "      <td>0</td>\n",
       "      <td>0</td>\n",
       "      <td>0</td>\n",
       "      <td>0</td>\n",
       "    </tr>\n",
       "  </tbody>\n",
       "</table>\n",
       "<p>5 rows × 38 columns</p>\n",
       "</div>"
      ],
      "text/plain": [
       "    seats.car_type  seats.DAY(travel_date)  seats.MONTH(travel_date)  \\\n",
       "id                                                                     \n",
       "0                0                      17                        10   \n",
       "1                0                      19                        11   \n",
       "2                0                      26                        11   \n",
       "3                0                      27                        11   \n",
       "4                0                      27                        11   \n",
       "\n",
       "    seats.COUNT(Nairobi_Movement)  seats.WEEKDAY(travel_date)  \\\n",
       "id                                                              \n",
       "0                               1                           1   \n",
       "1                               1                           6   \n",
       "2                               1                           6   \n",
       "3                               5                           0   \n",
       "4                              31                           0   \n",
       "\n",
       "    seats.SUM(Nairobi_Movement.travel_from_Kehancha)  \\\n",
       "id                                                     \n",
       "0                                                  0   \n",
       "1                                                  0   \n",
       "2                                                  0   \n",
       "3                                                  0   \n",
       "4                                                  0   \n",
       "\n",
       "    seats.SUM(Nairobi_Movement.travel_from_Kisii)  \\\n",
       "id                                                  \n",
       "0                                               0   \n",
       "1                                               0   \n",
       "2                                               0   \n",
       "3                                               0   \n",
       "4                                               0   \n",
       "\n",
       "    seats.SUM(Nairobi_Movement.travel_from_Homa Bay)  \\\n",
       "id                                                     \n",
       "0                                                  0   \n",
       "1                                                  0   \n",
       "2                                                  0   \n",
       "3                                                  5   \n",
       "4                                                  0   \n",
       "\n",
       "    seats.SUM(Nairobi_Movement.travel_from_Rongo)  \\\n",
       "id                                                  \n",
       "0                                               0   \n",
       "1                                               0   \n",
       "2                                               0   \n",
       "3                                               0   \n",
       "4                                               0   \n",
       "\n",
       "    seats.SUM(Nairobi_Movement.travel_from_Awendo)  \\\n",
       "id                                                   \n",
       "0                                                0   \n",
       "1                                                0   \n",
       "2                                                0   \n",
       "3                                                0   \n",
       "4                                                0   \n",
       "\n",
       "                         ...                        seats.YEAR(travel_date)  \\\n",
       "id                       ...                                                  \n",
       "0                        ...                                           2017   \n",
       "1                        ...                                           2017   \n",
       "2                        ...                                           2017   \n",
       "3                        ...                                           2017   \n",
       "4                        ...                                           2017   \n",
       "\n",
       "    seats.SKEW(Nairobi_Movement.travel_from_Awendo)  \\\n",
       "id                                                    \n",
       "0                                               NaN   \n",
       "1                                               NaN   \n",
       "2                                               NaN   \n",
       "3                                               0.0   \n",
       "4                                               0.0   \n",
       "\n",
       "    seats.SUM(Nairobi_Movement.travel_from_Mbita)  \\\n",
       "id                                                  \n",
       "0                                               0   \n",
       "1                                               0   \n",
       "2                                               0   \n",
       "3                                               0   \n",
       "4                                               0   \n",
       "\n",
       "    seats.SUM(Nairobi_Movement.travel_from_Sori)  travel_from_Keumbu  \\\n",
       "id                                                                     \n",
       "0                                              0                   0   \n",
       "1                                              0                   0   \n",
       "2                                              0                   0   \n",
       "3                                              0                   0   \n",
       "4                                              0                   0   \n",
       "\n",
       "    travel_from_Migori  travel_from_Ndhiwa  travel_from_Mbita  \\\n",
       "id                                                              \n",
       "0                    1                   0                  0   \n",
       "1                    1                   0                  0   \n",
       "2                    0                   0                  0   \n",
       "3                    0                   0                  0   \n",
       "4                    1                   0                  0   \n",
       "\n",
       "    travel_from_Sori  seats.SUM(Nairobi_Movement.travel_from_Keumbu)  \n",
       "id                                                                    \n",
       "0                  0                                               0  \n",
       "1                  0                                               0  \n",
       "2                  0                                               0  \n",
       "3                  0                                               0  \n",
       "4                  0                                               0  \n",
       "\n",
       "[5 rows x 38 columns]"
      ]
     },
     "execution_count": 234,
     "metadata": {},
     "output_type": "execute_result"
    }
   ],
   "source": [
    "train_important.head()"
   ]
  },
  {
   "cell_type": "code",
   "execution_count": 238,
   "metadata": {},
   "outputs": [],
   "source": [
    "xtrain, xvalid, ytrain, yvalid = train_test_split(train_important, training_labels, test_size=0.25, random_state=11)"
   ]
  },
  {
   "cell_type": "code",
   "execution_count": 241,
   "metadata": {},
   "outputs": [
    {
     "data": {
      "text/plain": [
       "XGBClassifier(base_score=0.5, booster='gbtree', colsample_bylevel=1,\n",
       "       colsample_bytree=1, gamma=0, learning_rate=0.01, max_delta_step=0,\n",
       "       max_depth=3, min_child_weight=1, missing=None, n_estimators=100,\n",
       "       n_jobs=1, nthread=None, objective='multi:softprob', random_state=0,\n",
       "       reg_alpha=0, reg_lambda=1, scale_pos_weight=1, seed=None,\n",
       "       silent=True, subsample=1)"
      ]
     },
     "execution_count": 241,
     "metadata": {},
     "output_type": "execute_result"
    }
   ],
   "source": [
    "model = XGBClassifier(learning_rate=0.01)\n",
    "model.fit(xtrain,ytrain)"
   ]
  },
  {
   "cell_type": "code",
   "execution_count": 242,
   "metadata": {},
   "outputs": [
    {
     "name": "stderr",
     "output_type": "stream",
     "text": [
      "C:\\Users\\lenovoG50\\Anaconda3\\lib\\site-packages\\sklearn\\preprocessing\\label.py:151: DeprecationWarning: The truth value of an empty array is ambiguous. Returning False, but in future this will result in an error. Use `array.size > 0` to check that an array is not empty.\n",
      "  if diff:\n"
     ]
    },
    {
     "data": {
      "text/plain": [
       "19.556691449814128"
      ]
     },
     "execution_count": 242,
     "metadata": {},
     "output_type": "execute_result"
    }
   ],
   "source": [
    "from sklearn.metrics import mean_absolute_error\n",
    "pred = model.predict(xvalid)\n",
    "mean_absolute_error(yvalid, pred)"
   ]
  }
 ],
 "metadata": {
  "kernelspec": {
   "display_name": "Python 3",
   "language": "python",
   "name": "python3"
  },
  "language_info": {
   "codemirror_mode": {
    "name": "ipython",
    "version": 3
   },
   "file_extension": ".py",
   "mimetype": "text/x-python",
   "name": "python",
   "nbconvert_exporter": "python",
   "pygments_lexer": "ipython3",
   "version": "3.6.4"
  }
 },
 "nbformat": 4,
 "nbformat_minor": 2
}
